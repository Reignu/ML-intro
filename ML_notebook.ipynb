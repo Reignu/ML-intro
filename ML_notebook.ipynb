{
  "nbformat": 4,
  "nbformat_minor": 0,
  "metadata": {
    "colab": {
      "provenance": []
    },
    "kernelspec": {
      "name": "python3",
      "display_name": "Python 3"
    },
    "language_info": {
      "name": "python"
    }
  },
  "cells": [
    {
      "cell_type": "markdown",
      "source": [
        "# Part A: Dataset and Significance Test Selection\n",
        "\n",
        "## Dataset\n",
        "The dataset selected for this analysis is the **Stroke Prediction Dataset**.\n",
        "\n",
        "### Prerequisites\n",
        "1. Follow this [link](https://www.kaggle.com/datasets/fedesoriano/stroke-prediction-dataset/data) to download the dataset.\n",
        "2. Upload it into the default directory (content folder).\n",
        "\n",
        "## Introduction\n",
        "- Obtained from Kaggle  \n",
        "  URL: [https://www.kaggle.com/datasets/fedesoriano/stroke-prediction-dataset/data](https://www.kaggle.com/datasets/fedesoriano/stroke-prediction-dataset/data)\n",
        "- Composition:  \n",
        "  The dataset contains a mix of:\n",
        "  - Numeric variables such as:\n",
        "    - Age\n",
        "    - Glucose levels\n",
        "    - BMI\n",
        "    - Work type, etc.\n",
        "  - Categorical variables such as:\n",
        "    - Gender\n",
        "    - `ever_married` (indicates whether an individual has ever been married)\n",
        "\n",
        "- Objective:  \n",
        "  To predict how likely an individual is to experience a stroke based on their demographic, lifestyle, and medical information.\n",
        "\n",
        "## Acknowledgement\n",
        "To uphold research integrity, full credit is given to the dataset author, **Fedesoriano**, a Data Scientist at Kaggle.  \n"
      ],
      "metadata": {
        "id": "oNSLUy0R3iKE"
      }
    },
    {
      "cell_type": "code",
      "execution_count": null,
      "metadata": {
        "colab": {
          "base_uri": "https://localhost:8080/"
        },
        "id": "fgnFIs833dl-",
        "outputId": "ae5776ed-bb78-4aff-d78c-d0f21454f0e7"
      },
      "outputs": [
        {
          "output_type": "stream",
          "name": "stdout",
          "text": [
            "      id  gender   age  hypertension  heart_disease ever_married  \\\n",
            "0   9046    Male  67.0             0              1          Yes   \n",
            "1  51676  Female  61.0             0              0          Yes   \n",
            "2  31112    Male  80.0             0              1          Yes   \n",
            "3  60182  Female  49.0             0              0          Yes   \n",
            "4   1665  Female  79.0             1              0          Yes   \n",
            "\n",
            "       work_type Residence_type  avg_glucose_level   bmi   smoking_status  \\\n",
            "0        Private          Urban             228.69  36.6  formerly smoked   \n",
            "1  Self-employed          Rural             202.21   NaN     never smoked   \n",
            "2        Private          Rural             105.92  32.5     never smoked   \n",
            "3        Private          Urban             171.23  34.4           smokes   \n",
            "4  Self-employed          Rural             174.12  24.0     never smoked   \n",
            "\n",
            "   stroke  \n",
            "0       1  \n",
            "1       1  \n",
            "2       1  \n",
            "3       1  \n",
            "4       1  \n"
          ]
        }
      ],
      "source": [
        "import pandas as pd\n",
        "\n",
        "df = pd.read_csv(\"healthcare-dataset-stroke-data.csv\")\n",
        "print(df.head())"
      ]
    },
    {
      "cell_type": "markdown",
      "source": [
        "## Evaluation of the Dataset\n",
        "\n",
        "### Columns Overview\n",
        "The dataset consists of **12 columns**, as follows:\n",
        "\n",
        "1. **ID**\n",
        "2. **Gender**\n",
        "3. **Age**\n",
        "4. **Hypertension**: Number of times the person experienced hypertension.\n",
        "5. **Heart_disease**: Number of times the person experienced heart disease.\n",
        "6. **Ever_married**: Whether the person has ever been married.\n",
        "7. **Work_type**: Type of work the person has undertaken:\n",
        "   - Private\n",
        "   - Self-employed\n",
        "   - Retired\n",
        "   - Never worked\n",
        "   - Children\n",
        "   - Government job\n",
        "8. **Residence_type**: Either rural or urban area.\n",
        "9. **Avg_glucose_level**: Average glucose level in the blood.\n",
        "10. **BMI**: Body Mass Index.\n",
        "11. **Smoking_status**:\n",
        "    - \"Formerly smoked\"\n",
        "    - \"Never smoked\"\n",
        "    - \"Smokes\"\n",
        "    - \"Unknown\"\n",
        "12. **Stroke**: Binary field:\n",
        "    - `1`: The patient experienced a stroke.\n",
        "    - `0`: The patient did not experience a stroke.\n",
        "\n",
        "### Data Overview\n",
        "- The dataset contains **5110 rows** in total.\n",
        "- Only the **BMI** column contains null entries.\n",
        "\n",
        "### Handling Missing Data\n",
        "- A conscious decision has been made **not to handle the null entries in the BMI column**, as BMI will not be used in the analysis. This ensures that the analysis is focused and unaffected by missing values in irrelevant columns.\n"
      ],
      "metadata": {
        "id": "iIinKQFVW8Fc"
      }
    },
    {
      "cell_type": "code",
      "source": [
        "print(df.info())"
      ],
      "metadata": {
        "colab": {
          "base_uri": "https://localhost:8080/"
        },
        "id": "DI-8aTiRW-xH",
        "outputId": "2deb364d-a627-48e0-ab3a-19da4dc40697"
      },
      "execution_count": null,
      "outputs": [
        {
          "output_type": "stream",
          "name": "stdout",
          "text": [
            "<class 'pandas.core.frame.DataFrame'>\n",
            "RangeIndex: 5110 entries, 0 to 5109\n",
            "Data columns (total 12 columns):\n",
            " #   Column             Non-Null Count  Dtype  \n",
            "---  ------             --------------  -----  \n",
            " 0   id                 5110 non-null   int64  \n",
            " 1   gender             5110 non-null   object \n",
            " 2   age                5110 non-null   float64\n",
            " 3   hypertension       5110 non-null   int64  \n",
            " 4   heart_disease      5110 non-null   int64  \n",
            " 5   ever_married       5110 non-null   object \n",
            " 6   work_type          5110 non-null   object \n",
            " 7   Residence_type     5110 non-null   object \n",
            " 8   avg_glucose_level  5110 non-null   float64\n",
            " 9   bmi                4909 non-null   float64\n",
            " 10  smoking_status     5110 non-null   object \n",
            " 11  stroke             5110 non-null   int64  \n",
            "dtypes: float64(3), int64(4), object(5)\n",
            "memory usage: 479.2+ KB\n",
            "None\n"
          ]
        }
      ]
    },
    {
      "cell_type": "markdown",
      "source": [
        "### Dataset Justification\n",
        "\n",
        "1. **Relevance to Research Question**\n",
        "   - The dataset contains a mix of continuous variables (e.g., `avg_glucose_level`, `age`, `bmi`) and categorical variables (e.g., `stroke`, `work_type`, `gender`), offering a stable base to analyse health factors related to stroke.\n",
        "   - The variable `avg_glucose_level` aligns directly with the research question:  \n",
        "     *\"Do patients who had a stroke have higher average glucose levels than those who did not?\"*\n",
        "\n",
        "2. **Data Usability and Structure**\n",
        "   - Contains over **5,000 rows**, the dataset is robust and meets the requirement of having at least 100 rows.\n",
        "   - Minimal preprocessing is needed, which ensures focus on the core analysis rather than data cleaning.\n",
        "\n",
        "3. **Diverse Applications**<br>\n",
        "   The mix of numerical and categorical variables supports various methodologies\n",
        "\n",
        "4. **Practical Importance**<br>\n",
        "   Understanding the link between glucose levels and stroke occurrence has **real-world implications** for public health. Insights from this dataset could inform preventative medical care.\n",
        "\n",
        "5. **Balance Between Complexity and Clarity**<br>\n",
        "   Although the dataset is slightly imbalanced (with **4.9% of cases being strokes**), the imbalance reflects real-world distributions, adding authenticity."
      ],
      "metadata": {
        "id": "OKSFogebWZjh"
      }
    },
    {
      "cell_type": "code",
      "source": [
        "print(df.describe())"
      ],
      "metadata": {
        "colab": {
          "base_uri": "https://localhost:8080/"
        },
        "id": "CZ-8DGPMa3IN",
        "outputId": "13328b9c-a4d4-4d29-f4eb-d3ee87486480"
      },
      "execution_count": null,
      "outputs": [
        {
          "output_type": "stream",
          "name": "stdout",
          "text": [
            "                 id          age  hypertension  heart_disease  \\\n",
            "count   5110.000000  5110.000000   5110.000000    5110.000000   \n",
            "mean   36517.829354    43.226614      0.097456       0.054012   \n",
            "std    21161.721625    22.612647      0.296607       0.226063   \n",
            "min       67.000000     0.080000      0.000000       0.000000   \n",
            "25%    17741.250000    25.000000      0.000000       0.000000   \n",
            "50%    36932.000000    45.000000      0.000000       0.000000   \n",
            "75%    54682.000000    61.000000      0.000000       0.000000   \n",
            "max    72940.000000    82.000000      1.000000       1.000000   \n",
            "\n",
            "       avg_glucose_level          bmi       stroke  \n",
            "count        5110.000000  4909.000000  5110.000000  \n",
            "mean          106.147677    28.893237     0.048728  \n",
            "std            45.283560     7.854067     0.215320  \n",
            "min            55.120000    10.300000     0.000000  \n",
            "25%            77.245000    23.500000     0.000000  \n",
            "50%            91.885000    28.100000     0.000000  \n",
            "75%           114.090000    33.100000     0.000000  \n",
            "max           271.740000    97.600000     1.000000  \n"
          ]
        }
      ]
    },
    {
      "cell_type": "markdown",
      "source": [
        "### Dataset composition\n",
        "\n",
        "Below are the key variables that will be used in my analysis.\n",
        "\n",
        "| **Column Name**       | **Type**      | **Description**                                   |\n",
        "|------------------------|---------------|---------------------------------------------------|\n",
        "| `avg_glucose_level`    | Continuous    | Average glucose level in blood                   |\n",
        "| `stroke`               | Categorical   | Whether the patient had a stroke (1 = Yes, 0 = No) |\n"
      ],
      "metadata": {
        "id": "TACTX1nKcnCA"
      }
    },
    {
      "cell_type": "markdown",
      "source": [
        "###Statistical analysis\n",
        "**Avg_glucose_level:** Mean: 106.15, with a wide range (55.12 to 271.74). Standard deviation: 45.28 indicates high variability.\n",
        "\"Higher glucose levels could potentially relate to stroke occurrence, as extreme values are present.\"<br>\n",
        "\n",
        "The dataset's imbalance, with only 4.9% of cases involving stroke, may affect statistical power by reducing the effective sample size in the stroke group."
      ],
      "metadata": {
        "id": "T1E_v_vVbfXP"
      }
    },
    {
      "cell_type": "markdown",
      "source": [
        "##Interpretation"
      ],
      "metadata": {
        "id": "8MO8MbrSa3c8"
      }
    },
    {
      "cell_type": "markdown",
      "source": [
        "### Structure of Hypothesis\n",
        "\n",
        "#### Research Question:\n",
        "*Do patients who had a stroke have higher average glucose levels than those who did not?*\n",
        "\n",
        "#### Hypotheses:\n",
        "- **Null Hypothesis (H<sub>0</sub>):**  \n",
        "  There is no significant difference in average glucose levels between patients who had a stroke and those who did not.\n",
        "\n",
        "- **Alternative Hypothesis (H<sub>1</sub>):**  \n",
        "  Patients who had a stroke have significantly higher average glucose levels than those who did not.\n",
        "\n",
        "This is a **one-tailed test** because the hypothesis specifically predicts that glucose levels are higher for stroke patients."
      ],
      "metadata": {
        "id": "a8wipTUVS1bl"
      }
    },
    {
      "cell_type": "markdown",
      "source": [
        "###Key variables\n",
        "| **Variable Name**      | **Type**           | **Role**                                  |\n",
        "|-------------------------|--------------------|-------------------------------------------|\n",
        "| `avg_glucose_level`     | Continuous         | Dependent variable (outcome to compare).  |\n",
        "| `stroke`                | Categorical (binary) | Independent variable (defining groups).   |\n"
      ],
      "metadata": {
        "id": "OMOrimL3S6Yh"
      }
    },
    {
      "cell_type": "markdown",
      "source": [
        "### Data Visualisation: Glucose Levels by Stroke Status"
      ],
      "metadata": {
        "id": "YlTbPnhjftd9"
      }
    },
    {
      "cell_type": "code",
      "source": [
        "import matplotlib.pyplot as plt\n",
        "\n",
        "# Split data into stroke and non-stroke\n",
        "stroke_group = df[df['stroke'] == 1]['avg_glucose_level']\n",
        "non_stroke_group = df[df['stroke'] == 0]['avg_glucose_level']\n",
        "\n",
        "# Define the bin edges for consistent comparison\n",
        "bins = range(int(df['avg_glucose_level'].min()), int(df['avg_glucose_level'].max()) + 10, 10)\n",
        "\n",
        "# Create the histogram\n",
        "plt.figure(figsize=(10, 6))\n",
        "\n",
        "# Histogram for stroke group\n",
        "plt.hist(stroke_group, bins=bins, alpha=0.7, label='Stroke (1)', color='red', edgecolor='black')\n",
        "\n",
        "# Histogram for non-stroke group\n",
        "plt.hist(non_stroke_group, bins=bins, alpha=0.4, label='No Stroke (0)', color='blue', edgecolor='black')\n",
        "\n",
        "# Add titles and labels\n",
        "plt.title('Histogram of Average Glucose Levels by Stroke Status')\n",
        "plt.xlabel('Average Glucose Level')\n",
        "plt.ylabel('Frequency')\n",
        "plt.legend()\n",
        "plt.grid(axis='y', linestyle='--', alpha=0.7)\n",
        "plt.show()"
      ],
      "metadata": {
        "colab": {
          "base_uri": "https://localhost:8080/",
          "height": 564
        },
        "id": "2kZLbVHHfecx",
        "outputId": "2d3f780b-06f8-4cdb-bad1-8c6fad238e7a"
      },
      "execution_count": null,
      "outputs": [
        {
          "output_type": "display_data",
          "data": {
            "text/plain": [
              "<Figure size 1000x600 with 1 Axes>"
            ],
            "image/png": "[encoded data removed]"
          },
          "metadata": {}
        }
      ]
    },
    {
      "cell_type": "markdown",
      "source": [
        "### Parametric vs. Non-Parametric Discussion\n",
        "\n",
        "#### Key Considerations for Parametric Tests:\n",
        "1. **Normality:**  \n",
        "   - Glucose levels in both groups should follow a normal distribution.  \n",
        "   - The **Shapiro-Wilk test** will be used to check if data is normally distributed.\n",
        "   \n",
        "2. **Equal Variance:**  \n",
        "   - Variance in glucose levels should be approximately equal across the two groups.  \n",
        "   - This will be tested using **Levene's test**.\n",
        "\n",
        "3. **Independence:**  \n",
        "   - Observations must be independent.  \n",
        "   - This point is satisfied as each patient is represented only once in the dataset.\n",
        "\n",
        "#### Decision Based on Considerations:\n",
        "- If assumptions are met:<br>\n",
        "  **Independent t-test** will be used (parametric).\n",
        "\n",
        "- If assumptions are violated:<br>\n",
        "  **Mann-Whitney U-test** will be used (non-parametric) to account for deviations from normality or unequal variances."
      ],
      "metadata": {
        "id": "X9gBCNhcUK9u"
      }
    },
    {
      "cell_type": "markdown",
      "source": [
        "#### Normality Check\n"
      ],
      "metadata": {
        "id": "BzVSwKumVHuO"
      }
    },
    {
      "cell_type": "code",
      "source": [
        "from scipy.stats import shapiro\n",
        "\n",
        "# Test for normality\n",
        "print(\"Shapiro-Wilk Test for Stroke Group:\")\n",
        "test_stat, p_value = shapiro(stroke_group)\n",
        "print(f\"Stat: {test_stat}, p-value: {p_value}\")\n",
        "\n",
        "print(\"\\nShapiro-Wilk Test for Non-Stroke Group:\")\n",
        "test_stat, p_value = shapiro(non_stroke_group)\n",
        "print(f\"Stat: {test_stat}, p-value: {p_value}\")"
      ],
      "metadata": {
        "colab": {
          "base_uri": "https://localhost:8080/"
        },
        "id": "q1pVY_sSVOnf",
        "outputId": "6d2417e1-9361-47f9-e3a8-cf27967e72d6"
      },
      "execution_count": null,
      "outputs": [
        {
          "output_type": "stream",
          "name": "stdout",
          "text": [
            "Shapiro-Wilk Test for Stroke Group:\n",
            "Stat: 0.8712362980791762, p-value: 1.2319525411457356e-13\n",
            "\n",
            "Shapiro-Wilk Test for Non-Stroke Group:\n",
            "Stat: 0.8036442898805125, p-value: 1.1475284768113121e-60\n"
          ]
        }
      ]
    },
    {
      "cell_type": "markdown",
      "source": [
        "#### Equal Variance Check"
      ],
      "metadata": {
        "id": "o1WRbPj6Vch-"
      }
    },
    {
      "cell_type": "code",
      "source": [
        "from scipy.stats import levene\n",
        "\n",
        "# Test for equal variance\n",
        "stat, p_value = levene(stroke_group, non_stroke_group)\n",
        "print(f\"Levene’s Test: {stat}, p-value: {p_value}\")"
      ],
      "metadata": {
        "colab": {
          "base_uri": "https://localhost:8080/"
        },
        "id": "4USyTSUmVflG",
        "outputId": "476acbfe-cb15-40e1-b051-03f7d3040ae2"
      },
      "execution_count": null,
      "outputs": [
        {
          "output_type": "stream",
          "name": "stdout",
          "text": [
            "Levene’s Test: 94.10850460562769, p-value: 4.625275752785231e-22\n"
          ]
        }
      ]
    },
    {
      "cell_type": "markdown",
      "source": [
        "#### Findings and Conclusions\n",
        "\n",
        "1. **Normality Check (Shapiro-Wilk Test):**\n",
        "   - **Stroke Group:**\n",
        "     - Stat: 0.871, p-value: 1.23 * 10<sup>-13</sup>\n",
        "   - **Non-Stroke Group:**\n",
        "     - Stat: 0.804, p-value: 1.15 * 10<sup>-60</sup>\n",
        "   - **Conclusion:**  \n",
        "     Both p-values are less than 0.05, showing that neither group follows a normal distribution.  \n",
        "     The assumption of normality is **violated**.\n",
        "\n",
        "2. **Equal Variance Check (Levene's Test):**\n",
        "   - Stat: 94.11, p-value: 4.63 * 10<sup>-22</sup>\n",
        "   - **Conclusion:**  \n",
        "     The p-value is less than 0.05, indicating that the variances in glucose levels between the two groups are significantly different.  \n",
        "     The assumption of equal variances for parametric tests is **violated**.\n",
        "\n",
        "3. **Test Decision:**\n",
        "   - **Mann-Whitney U-test** was chosen as the appropriate alternative to the Independent t-test due to:\n",
        "     - Violations of normality in both groups.\n",
        "     - Major differences in variance between the groups.\n",
        "   - The Mann-Whitney U-test:\n",
        "     - Compares the medians of the dependent variable (`avg_glucose_level`) between the two independent groups (`stroke` = 1 and `no stroke` = 0).\n",
        "     - Does not require assumptions of normality or equal variance, making it suitable for this dataset.\n",
        "     - It remains valid by ranking data and comparing rank totals, rather than raw values."
      ],
      "metadata": {
        "id": "t0IGS3VWWHSu"
      }
    },
    {
      "cell_type": "code",
      "source": [
        "from scipy.stats import mannwhitneyu\n",
        "\n",
        "# Mann-Whitney U-test\n",
        "u_statistic, p_value = mannwhitneyu(stroke_group, non_stroke_group, alternative='greater')\n",
        "\n",
        "# Display results\n",
        "print(f\"U-stat: {u_statistic}\")\n",
        "print(f\"P-value: {p_value}\")\n",
        "\n",
        "# Interpretation of results\n",
        "if p_value < 0.05:\n",
        "    print(\"Stroke patients have significantly higher average glucose levels.\")\n",
        "else:\n",
        "    print(\"There is no significant difference in average glucose levels between stroke and non-stroke patients.\")"
      ],
      "metadata": {
        "colab": {
          "base_uri": "https://localhost:8080/"
        },
        "id": "eNrZ5EpcXKTB",
        "outputId": "279f5f7c-a9d5-47dc-e06d-beffd40e0e09"
      },
      "execution_count": null,
      "outputs": [
        {
          "output_type": "stream",
          "name": "stdout",
          "text": [
            "U-stat: 739150.0\n",
            "P-value: 1.8201836355446618e-09\n",
            "Stroke patients have significantly higher average glucose levels.\n"
          ]
        }
      ]
    },
    {
      "cell_type": "markdown",
      "source": [
        "### Conclusions\n",
        "\n",
        "#### Statistical Results\n",
        "- **U-stat:** 739,150.0  \n",
        "- **P-value:** 1.82 × 10⁻⁹  \n",
        "- The extremely small p-value (< 0.05) indicates that the difference observed between average glucose levels in stroke and non-stroke patients is highly unlikely to have occurred by accident.\n",
        "\n",
        "#### Decision\n",
        "- Since the p-value is less than 0.05, we **can reject the null hypothesis**.\n",
        "- This shows a statistically significant difference in average glucose levels between the two groups.\n",
        "\n",
        "#### Probability Theory in Context\n",
        "- The **p-value** represents the probability of observing the data, assuming the null hypothesis (no difference in glucose level) is true.\n",
        "- A p-value of **1.82 * 10<sup>-9</sup>** means there is a 0.000000182% chance that the observed result is due to random variation.\n",
        "- The **U-stat** (739,150.0) calculates the rank-sum difference between the groups, where higher ranks for stroke patients indicate a trend toward higher glucose levels.\n",
        "\n",
        "#### Implications\n",
        "1. **Glucose Levels and Stroke Risk:**\n",
        "   - Stroke patients have significantly higher glucose levels, suggesting an association between them.\n",
        "   - This finding aligns with existing medical research linking high glucose levels to vascular health issues and stroke risk.\n",
        "\n",
        "2. **Clinical Application:**\n",
        "   - Monitoring glucose plays a vital role in stroke prevention.\n",
        "   - Elevated glucose levels are used as an early indicator for prevention in individuals who are prone to stroke.\n",
        "\n",
        "3. **Limitations of the Test:**\n",
        "   - **Causation:** The Mann-Whitney U-test identifies an association but does not establish causation. Further research is necessary to confirm whether high glucose levels directly contribute to stroke risk.\n",
        "   - **Other Variables:** e.g., age, hypertension, heart disease may influence both glucose levels and stroke risk and they were not controlled in this analysis.\n",
        "   - **Data Imbalance:** The dataset contains significantly fewer stroke cases compared to non-stroke cases, which could impact robust results.\n",
        "\n",
        "#### Future Ideas\n",
        "- Use additional datasets to validate findings and ensure their usability towards larger groups of people.\n",
        "- Conduct logistic regression to identify and investigate potential interacting variables."
      ],
      "metadata": {
        "id": "QPD4eKF8QQfz"
      }
    },
    {
      "cell_type": "markdown",
      "source": [
        "#Part B: Machine Learning models\n",
        "\n",
        "\n",
        "\n",
        "\n",
        "\n"
      ],
      "metadata": {
        "id": "B1kkA5bu4ORO"
      }
    },
    {
      "cell_type": "code",
      "source": [
        "import pandas as pd\n",
        "\n",
        "# Load the dataset\n",
        "apple_data = pd.read_csv(\"Apple_Quality.csv\")\n",
        "\n",
        "# Inspect the dataset\n",
        "print(apple_data.info())\n",
        "print(apple_data.describe())\n",
        "print(apple_data.head())"
      ],
      "metadata": {
        "colab": {
          "base_uri": "https://localhost:8080/"
        },
        "id": "SjzETP6qg4DZ",
        "outputId": "efeeb01e-37f6-4827-e7ad-01a5caa3c35b"
      },
      "execution_count": null,
      "outputs": [
        {
          "output_type": "stream",
          "name": "stdout",
          "text": [
            "<class 'pandas.core.frame.DataFrame'>\n",
            "RangeIndex: 4001 entries, 0 to 4000\n",
            "Data columns (total 9 columns):\n",
            " #   Column       Non-Null Count  Dtype  \n",
            "---  ------       --------------  -----  \n",
            " 0   A_id         4000 non-null   float64\n",
            " 1   Size         4000 non-null   float64\n",
            " 2   Weight       4000 non-null   float64\n",
            " 3   Sweetness    4000 non-null   float64\n",
            " 4   Crunchiness  4000 non-null   float64\n",
            " 5   Juiciness    4000 non-null   float64\n",
            " 6   Ripeness     4000 non-null   float64\n",
            " 7   Acidity      4001 non-null   object \n",
            " 8   Quality      4000 non-null   object \n",
            "dtypes: float64(7), object(2)\n",
            "memory usage: 281.4+ KB\n",
            "None\n",
            "              A_id         Size       Weight    Sweetness  Crunchiness  \\\n",
            "count  4000.000000  4000.000000  4000.000000  4000.000000  4000.000000   \n",
            "mean   1999.500000    -0.503015    -0.989547    -0.470479     0.985478   \n",
            "std    1154.844867     1.928059     1.602507     1.943441     1.402757   \n",
            "min       0.000000    -7.151703    -7.149848    -6.894485    -6.055058   \n",
            "25%     999.750000    -1.816765    -2.011770    -1.738425     0.062764   \n",
            "50%    1999.500000    -0.513703    -0.984736    -0.504758     0.998249   \n",
            "75%    2999.250000     0.805526     0.030976     0.801922     1.894234   \n",
            "max    3999.000000     6.406367     5.790714     6.374916     7.619852   \n",
            "\n",
            "         Juiciness     Ripeness  \n",
            "count  4000.000000  4000.000000  \n",
            "mean      0.512118     0.498277  \n",
            "std       1.930286     1.874427  \n",
            "min      -5.961897    -5.864599  \n",
            "25%      -0.801286    -0.771677  \n",
            "50%       0.534219     0.503445  \n",
            "75%       1.835976     1.766212  \n",
            "max       7.364403     7.237837  \n",
            "   A_id      Size    Weight  Sweetness  Crunchiness  Juiciness  Ripeness  \\\n",
            "0   0.0 -3.970049 -2.512336   5.346330    -1.012009   1.844900  0.329840   \n",
            "1   1.0 -1.195217 -2.839257   3.664059     1.588232   0.853286  0.867530   \n",
            "2   2.0 -0.292024 -1.351282  -1.738429    -0.342616   2.838636 -0.038033   \n",
            "3   3.0 -0.657196 -2.271627   1.324874    -0.097875   3.637970 -3.413761   \n",
            "4   4.0  1.364217 -1.296612  -0.384658    -0.553006   3.030874 -1.303849   \n",
            "\n",
            "        Acidity Quality  \n",
            "0  -0.491590483    good  \n",
            "1  -0.722809367    good  \n",
            "2   2.621636473     bad  \n",
            "3   0.790723217    good  \n",
            "4   0.501984036    good  \n"
          ]
        }
      ]
    },
    {
      "cell_type": "code",
      "source": [
        "# Convert Acidity to float\n",
        "apple_data['Acidity'] = pd.to_numeric(apple_data['Acidity'], errors='coerce')\n",
        "\n",
        "print(apple_data.info())"
      ],
      "metadata": {
        "colab": {
          "base_uri": "https://localhost:8080/"
        },
        "id": "Okx9B7Awlr5Q",
        "outputId": "25b14e12-3c1d-48a2-8840-acb3d81d8758"
      },
      "execution_count": null,
      "outputs": [
        {
          "output_type": "stream",
          "name": "stdout",
          "text": [
            "<class 'pandas.core.frame.DataFrame'>\n",
            "RangeIndex: 4001 entries, 0 to 4000\n",
            "Data columns (total 9 columns):\n",
            " #   Column       Non-Null Count  Dtype  \n",
            "---  ------       --------------  -----  \n",
            " 0   A_id         4000 non-null   float64\n",
            " 1   Size         4000 non-null   float64\n",
            " 2   Weight       4000 non-null   float64\n",
            " 3   Sweetness    4000 non-null   float64\n",
            " 4   Crunchiness  4000 non-null   float64\n",
            " 5   Juiciness    4000 non-null   float64\n",
            " 6   Ripeness     4000 non-null   float64\n",
            " 7   Acidity      4000 non-null   float64\n",
            " 8   Quality      4000 non-null   object \n",
            "dtypes: float64(8), object(1)\n",
            "memory usage: 281.4+ KB\n",
            "None\n"
          ]
        }
      ]
    },
    {
      "cell_type": "code",
      "source": [
        "# Encode the Quality column as numeric\n",
        "apple_data['Quality_numeric'] = apple_data['Quality'].apply(lambda x: 1 if x == 'good' else 0)\n",
        "\n",
        "# Show transformation\n",
        "print(apple_data[['Quality', 'Quality_numeric']].head())"
      ],
      "metadata": {
        "colab": {
          "base_uri": "https://localhost:8080/"
        },
        "id": "fiDV7VrlnaOF",
        "outputId": "4898a8d2-5727-49d0-e6f6-7bcd684feee8"
      },
      "execution_count": null,
      "outputs": [
        {
          "output_type": "stream",
          "name": "stdout",
          "text": [
            "  Quality  Quality_numeric\n",
            "0    good                1\n",
            "1    good                1\n",
            "2     bad                0\n",
            "3    good                1\n",
            "4    good                1\n"
          ]
        }
      ]
    },
    {
      "cell_type": "markdown",
      "source": [
        "### Data Pre-processing\n",
        "- **Check for Missing or Invalid Data:**<br>\n",
        "Most columns have only a single missing entry, which means it can safely be dropped.\n",
        "- **Convert columns to numeric:**<br>\n",
        "  - For some reason, the acidity column is of type object rather than float despite strictly numeric values. This has been converted to float.\n",
        "  - `Quality` column is clearly categorical and can remain as an object data type. The categorical version was kept in case it is required and a new column was created as `Quality_numeric` (binary) to be handled by models correctly."
      ],
      "metadata": {
        "id": "zJlZ7PTAhTbD"
      }
    },
    {
      "cell_type": "code",
      "source": [
        "# Check for missing values\n",
        "print(\"Missing values per column:\")\n",
        "print(apple_data.isnull().sum())\n",
        "\n",
        "# Drop missing values\n",
        "apple_data = apple_data.dropna()"
      ],
      "metadata": {
        "colab": {
          "base_uri": "https://localhost:8080/"
        },
        "id": "-aW_T03KiBPb",
        "outputId": "35c44601-1d65-4ab5-8c3c-85130cd722e0"
      },
      "execution_count": null,
      "outputs": [
        {
          "output_type": "stream",
          "name": "stdout",
          "text": [
            "Missing values per column:\n",
            "A_id               1\n",
            "Size               1\n",
            "Weight             1\n",
            "Sweetness          1\n",
            "Crunchiness        1\n",
            "Juiciness          1\n",
            "Ripeness           1\n",
            "Acidity            1\n",
            "Quality            1\n",
            "Quality_numeric    0\n",
            "dtype: int64\n"
          ]
        }
      ]
    },
    {
      "cell_type": "markdown",
      "source": [
        "## Linear Regression Analysis\n",
        "\n",
        "### What is Linear Regression?\n",
        "\n",
        "Linear regression is a **fundamental supervised machine learning algorithm** used for modeling the relationship between:\n",
        "- **Independent variable(s)** (features or predictors).\n",
        "- **Dependent variable** (target or outcome).\n",
        "\n",
        "The goal is to find a **line of best fit** that minimizes the error (residuals) between predicted and actual values, enabling predictions for unseen data.\n",
        "\n",
        "---\n",
        "\n",
        "### Key Concepts\n",
        "\n",
        "#### 1. **The Regression Equation**:\n",
        "The relationship is expressed using the linear equation:\n",
        "$$\n",
        "y = \\beta_0 + \\beta_1x + \\epsilon\n",
        "$$\n",
        "Where:\n",
        "- \\(y\\): Dependent variable (predicted outcome).\n",
        "- \\(x\\): Independent variable (predictor).\n",
        "- \\($\\beta_0$\\): Intercept, the value of \\(y\\) when \\(x = 0\\).\n",
        "- \\($\\beta_1$\\): Slope, indicating how much \\(y\\) changes for a one-unit increase in \\(x\\).\n",
        "- \\($\\epsilon$\\): Error term, representing the difference between predicted and actual values.\n",
        "\n",
        "#### 2. **Objective**:\n",
        "The objective is to minimize the **sum of squared residuals**:\n",
        "$$\n",
        "\\text{Residual} = y_i - \\hat{y}_i\n",
        "$$\n",
        "By minimising these residuals, the model ensures the best fit to the data.\n",
        "\n",
        "#### 3. **Types of Linear Regression**:\n",
        "- **Simple Linear Regression**: Involves one independent variable.\n",
        "- **Multiple Linear Regression**: Involves two or more independent variables.\n",
        "\n",
        "### Applications of Linear Regression\n",
        "Linear regression is widely used for predicting outcomes, such as housing prices, stock prices, product quality.\n",
        "\n",
        "### Assumptions of Linear Regression\n",
        "For accurate results, this method assumes:\n",
        "1. **Linearity**: A linear relationship exists between \\(x\\) and \\(y\\).\n",
        "2. **Independence**: Observations are independent of one another.\n",
        "3. **Normality**: Residuals are normally distributed.\n",
        "\n",
        "### Visualisation\n",
        "**Scatter plot** to show the relationship between an independent feature and the dependent variable (`Quality`). The line of best fit helps identify:\n",
        "- positive or negative relationships.\n",
        "- strength of the relationship.\n",
        "- outliers."
      ],
      "metadata": {
        "id": "hAq_sRnogxBS"
      }
    },
    {
      "cell_type": "markdown",
      "source": [
        "### Data Splitting\n",
        "\n",
        "To evaluate the performance of our models, the dataset was split into **training** and **testing** sets:\n",
        "- **Training Set (80%)**: Used to train the model and fit the regression line.\n",
        "- **Testing Set (20%)**: Used to evaluate the model's performance on unseen data.\n",
        "\n",
        "1. Features:\n",
        "   - Independent variables: `Size`, `Weight`, `Sweetness`, `Crunchiness`, `Juiciness`, `Ripeness`, and `Acidity`.\n",
        "   - These columns represent characteristics of apples.\n",
        "2. Target:\n",
        "   - Dependent variable: `Quality` (categorical: good/bad).\n",
        "\n",
        "#### Importance of Splitting\n",
        "Splitting ensures that:\n",
        "- overfitting is reduced.\n",
        "- performance is tested on unseen data, which gives an unbiased evaluation of the model.\n"
      ],
      "metadata": {
        "id": "U-YqQqrBj2c2"
      }
    },
    {
      "cell_type": "code",
      "source": [
        "from sklearn.model_selection import train_test_split\n",
        "\n",
        "# Define features\n",
        "X = apple_data[['Size', 'Weight', 'Sweetness', 'Crunchiness', 'Juiciness', 'Ripeness', 'Acidity']]  # Predictor columns\n",
        "y = apple_data['Quality_numeric']  # Target column\n",
        "\n",
        "# Split data\n",
        "X_train, X_test, y_train, y_test = train_test_split(X, y, test_size=0.2, random_state=42)\n",
        "\n",
        "# Print split shapes\n",
        "print(\"Training feature set shape:\", X_train.shape)\n",
        "print(\"Testing feature set shape:\", X_test.shape)\n",
        "print(\"Training target set shape:\", y_train.shape)\n",
        "print(\"Testing target set shape:\", y_test.shape)"
      ],
      "metadata": {
        "colab": {
          "base_uri": "https://localhost:8080/"
        },
        "id": "9YHE5HJPkKUy",
        "outputId": "e41ce7aa-366e-44cf-cb7a-ad6fccd477f6"
      },
      "execution_count": null,
      "outputs": [
        {
          "output_type": "stream",
          "name": "stdout",
          "text": [
            "Training feature set shape: (3200, 7)\n",
            "Testing feature set shape: (800, 7)\n",
            "Training target set shape: (3200,)\n",
            "Testing target set shape: (800,)\n"
          ]
        }
      ]
    },
    {
      "cell_type": "markdown",
      "source": [
        "### Splitting Results\n",
        "\n",
        "After splitting the dataset:\n",
        "- **Training Feature Set**: 3200 samples with 7 features.\n",
        "- **Testing Feature Set**: 800 samples with 7 features.\n",
        "- **Training Target Set**: 3200 samples.\n",
        "- **Testing Target Set**: 800 samples.\n",
        "\n",
        "This confirms that 80% of the data was allocated for training and 20% for testing. The split ensures enough data for both model training and evaluation and is common practice in the industry."
      ],
      "metadata": {
        "id": "erp1AVHskiTH"
      }
    },
    {
      "cell_type": "code",
      "source": [
        "from scipy.stats import linregress\n",
        "import matplotlib.pyplot as plt\n",
        "\n",
        "# Use the encoded Quality column for numeric target\n",
        "y_train_numeric = y_train  # Assuming y_train is already the 'Quality_numeric' column\n",
        "\n",
        "# Initialize a dictionary to store results\n",
        "results = {}\n",
        "\n",
        "# Loop through each feature and calculate linear regression statistics\n",
        "for feature in X_train.columns:\n",
        "    slope, intercept, r_value, p_value, std_err = linregress(X_train[feature], y_train_numeric)\n",
        "    results[feature] = {\"r_value\": abs(r_value), \"slope\": slope, \"intercept\": intercept}\n",
        "\n",
        "# Find the feature with the highest absolute r_value\n",
        "best_feature = max(results, key=lambda x: results[x][\"r_value\"])\n",
        "print(f\"Best predictor: {best_feature} with r_value = {results[best_feature]['r_value']}\")"
      ],
      "metadata": {
        "colab": {
          "base_uri": "https://localhost:8080/"
        },
        "id": "RJv63RSplHUH",
        "outputId": "e89fe8dd-3b69-4a10-e9eb-ca924f06283a"
      },
      "execution_count": null,
      "outputs": [
        {
          "output_type": "stream",
          "name": "stdout",
          "text": [
            "Best predictor: Ripeness with r_value = 0.2584355484154438\n"
          ]
        }
      ]
    },
    {
      "cell_type": "markdown",
      "source": [
        "### Analysis\n",
        "The result shows that `Ripeness` is the best predictor for the target variable `Quality` with an *r-value of approximately 0.258*. While it indicates a weak positive linear relationship, it is the strongest predictor from all the features in the dataset."
      ],
      "metadata": {
        "id": "EDG9sgtvoDQP"
      }
    },
    {
      "cell_type": "code",
      "source": [
        "# Scatter plot with regression line for the best predictor\n",
        "plt.figure(figsize=(8, 6))\n",
        "\n",
        "# Scatter plot for data points\n",
        "plt.scatter(X_train[best_feature], y_train_numeric, alpha=0.5, label='Training Data', color='blue')\n",
        "\n",
        "# Regression line\n",
        "slope = results[best_feature][\"slope\"]\n",
        "intercept = results[best_feature][\"intercept\"]\n",
        "plt.plot(X_train[best_feature], slope * X_train[best_feature] + intercept, color='red', label='Regression Line')\n",
        "\n",
        "# Add labels and title\n",
        "plt.title(f\"Linear Regression: {best_feature} vs Quality\")\n",
        "plt.xlabel(best_feature)\n",
        "plt.ylabel('Quality (Encoded: good=1, bad=0)')\n",
        "plt.legend()\n",
        "plt.grid()\n",
        "plt.show()"
      ],
      "metadata": {
        "colab": {
          "base_uri": "https://localhost:8080/",
          "height": 564
        },
        "id": "DQc8NoI7lKgK",
        "outputId": "e6f9ec18-fe94-453c-ed19-5b227e3fa740"
      },
      "execution_count": null,
      "outputs": [
        {
          "output_type": "display_data",
          "data": {
            "text/plain": [
              "<Figure size 800x600 with 1 Axes>"
            ],
            "image/png": "[encoded data removed]"
          },
          "metadata": {}
        }
      ]
    },
    {
      "cell_type": "markdown",
      "source": [
        "### Interpretation\n",
        "\n",
        "1. **Weak Linear Relationship**:<br>\n",
        "   The \\( r \\)-value of 0.258 indicates a *weak linear relationship* between `Ripeness` and `Quality`. This suggests that `Ripeness` is not a strong standalone predicting element of apple quality.\n",
        "\n",
        "2. **Regression Line Trend**:<br>\n",
        "   The regression line's **negative slope** indicates that higher `Ripeness` values are associated with a lower likelihood of apples being classified as \"good\" quality. This contradicts expectations and may reflect complexities or other factors having an impact in the dataset.\n",
        "\n",
        "3. **Limitations of Using Linear Regression**:\n",
        "   - Given that the target variable (`Quality`) is binary (0 for \"bad\", 1 for \"good\"), linear regression may fail to capture the relationship.\n",
        "   - Logistic regression (tailored for binary classification tasks) may be more suitable.\n",
        "   - Using a **boxplot** instead of a scatter plot could have better shown the distribution of `Ripeness` between both quality types.\n",
        "\n",
        "4. **Clustering of Data Points**:<br>\n",
        "   Most data points are concentrated horizontally at \\( y = 1 \\) (\"good\") and \\( y = 0 \\) (\"bad\"). This clustering reflects the **binary nature** of the target variable and emphasises the challenge of using linear regression in this context.\n",
        "\n",
        "5. **Implications for Predictive Modeling**:<br>\n",
        "   While `Ripeness` was strongest predicting element in this analysis, its weak correlation (\\( r \\)-value = 0.258) indicates that additional features or a mix of features may give better predictive power for apple quality."
      ],
      "metadata": {
        "id": "1c960_OIFZR0"
      }
    },
    {
      "cell_type": "markdown",
      "source": [
        "##Logistic Regression Analysis\n",
        "###Explanation\n",
        "### Logistic Regression: Concept and Explanation\n",
        "\n",
        "Logistic regression is a supervised machine learning algorithm used for **classification**. It predicts the probability that data belongs to a class. Unlike linear regression, which predicts continuous outcomes, this is designed for categorical variables.\n",
        "\n",
        "#### Key Characteristics:\n",
        "1. **Logistic Function**:\n",
        "   Logistic regression uses the logistic function (sigmoid curve) to output probabilities between 0 and 1:\n",
        "   $$\n",
        "   P(y=1|X) = \\frac{1}{1 + e^{-(\\beta_0 + \\beta_1X_1 + \\beta_2X_2 + \\ldots + \\beta_nX_n)}}\n",
        "   $$\n",
        "   Where:\n",
        "   - \\(P(y=1|X)\\): Probability of the positive class.\n",
        "   - \\(e\\): Euler's number (base of natural logarithms).\n",
        "   - \\($\\beta_0$, $\\beta_1$, $\\ldots$, $\\beta_n$\\): Model coefficients.\n",
        "\n",
        "2. **Boundaries**:\n",
        "   - The predicted probabilities are converted to class labels (e.g., 0 or 1) based on a threshold (commonly 0.5).\n",
        "   - \\(P(y=1|X) > 0.5 implies y = 1\\), otherwise \\(y = 0\\).\n",
        "\n",
        "3. **Assumptions**:\n",
        "   - The relationship between independent variables and the log odds is linear.\n",
        "   - Observations are independent of each other.\n",
        "\n",
        "In this analysis, logistic regression will predict the `Quality` of apples (good or bad) based on the provided features."
      ],
      "metadata": {
        "id": "p7j7DPOqgzZO"
      }
    },
    {
      "cell_type": "code",
      "source": [
        "from sklearn.model_selection import train_test_split\n",
        "\n",
        "# Use numeric features and target\n",
        "X = apple_data[['Size', 'Weight', 'Sweetness', 'Crunchiness', 'Juiciness', 'Ripeness', 'Acidity']]\n",
        "y = apple_data['Quality_numeric']\n",
        "\n",
        "# Split into training and testing sets\n",
        "X_train, X_test, y_train, y_test = train_test_split(X, y, test_size=0.2, random_state=42)\n",
        "\n",
        "# Confirm shapes\n",
        "print(\"Training set shape:\", X_train.shape, y_train.shape)\n",
        "print(\"Testing set shape:\", X_test.shape, y_test.shape)"
      ],
      "metadata": {
        "colab": {
          "base_uri": "https://localhost:8080/"
        },
        "id": "oF9efbILrdbv",
        "outputId": "00e6599e-91be-4805-f615-a9d4d663f4c9"
      },
      "execution_count": null,
      "outputs": [
        {
          "output_type": "stream",
          "name": "stdout",
          "text": [
            "Training set shape: (3200, 7) (3200,)\n",
            "Testing set shape: (800, 7) (800,)\n"
          ]
        }
      ]
    },
    {
      "cell_type": "markdown",
      "source": [
        "### Data Splitting\n",
        "This has already been done as part of linear regression analysis, therefore we can reuse the splits (code is included above just in case for ease of use)."
      ],
      "metadata": {
        "id": "MzWHgEeTrRnC"
      }
    },
    {
      "cell_type": "markdown",
      "source": [
        "### Analysis"
      ],
      "metadata": {
        "id": "TmG2mBSGsy3d"
      }
    },
    {
      "cell_type": "code",
      "source": [
        "from sklearn.linear_model import LogisticRegression\n",
        "from sklearn.metrics import accuracy_score\n",
        "\n",
        "# Create and train the logistic regression model\n",
        "logreg = LogisticRegression(max_iter=1000, random_state=42)\n",
        "logreg.fit(X_train, y_train)\n",
        "\n",
        "# Make predictions on the test set\n",
        "y_pred = logreg.predict(X_test)\n",
        "\n",
        "# Calculate accuracy\n",
        "accuracy = accuracy_score(y_test, y_pred)\n",
        "print(f\"Logistic Regression Accuracy: {accuracy:.2f}\")"
      ],
      "metadata": {
        "colab": {
          "base_uri": "https://localhost:8080/"
        },
        "id": "5qVeiNk4r2iL",
        "outputId": "c78279b4-9e66-4d78-fdbe-066c840d1804"
      },
      "execution_count": null,
      "outputs": [
        {
          "output_type": "stream",
          "name": "stdout",
          "text": [
            "Logistic Regression Accuracy: 0.75\n"
          ]
        }
      ]
    },
    {
      "cell_type": "markdown",
      "source": [
        "### Logistic Regression Accuracy\n",
        "\n",
        "1. **Accuracy Score**:\n",
        "   - The logistic regression model achieved an accuracy of **0.75 (75%)**, meaning that 75% of the predictions on the test dataset were correct.\n",
        "\n",
        "2. **Conclusion**:<br>\n",
        "   This score means that the model is moderately successful at categorising apples as either `good` or `bad` quality based on the provided features. However, it does not reveal whether the model is better at predicting `good` apples versus `bad` apples.\n",
        "\n",
        "3. **Limitations of Accuracy**:\n",
        "   - **Class balance**: Since the dataset contains an even number of 'good' and `bad` apples, accuracy is a reliable indication of the model effectiveness\n",
        "   - **Precision vs. Recall**: The accuracy score does not indicate how well the model handles false positives (bad apples classified as good) versus false negatives (good apples classified as bad) which is why we need to use the confusion matrix."
      ],
      "metadata": {
        "id": "_CfBK_z1svAh"
      }
    },
    {
      "cell_type": "code",
      "source": [
        "# Count the occurrences of each class in the Quality column\n",
        "class_counts = apple_data['Quality'].value_counts()\n",
        "print(class_counts)"
      ],
      "metadata": {
        "colab": {
          "base_uri": "https://localhost:8080/"
        },
        "id": "QgeBnUBOItMe",
        "outputId": "61105979-31b6-4159-b4c2-4fa6dba0c2fc"
      },
      "execution_count": null,
      "outputs": [
        {
          "output_type": "stream",
          "name": "stdout",
          "text": [
            "Quality\n",
            "good    2004\n",
            "bad     1996\n",
            "Name: count, dtype: int64\n"
          ]
        }
      ]
    },
    {
      "cell_type": "markdown",
      "source": [
        "### Confusion Matrix"
      ],
      "metadata": {
        "id": "OEz-xFkxs7OQ"
      }
    },
    {
      "cell_type": "code",
      "source": [
        "from sklearn.metrics import confusion_matrix, ConfusionMatrixDisplay\n",
        "\n",
        "# Generate the confusion matrix\n",
        "cm = confusion_matrix(y_test, y_pred)\n",
        "\n",
        "# Visualize the confusion matrix\n",
        "disp = ConfusionMatrixDisplay(confusion_matrix=cm, display_labels=[\"Bad\", \"Good\"])\n",
        "disp.plot(cmap='Blues')\n",
        "plt.title(\"Confusion Matrix: Logistic Regression\")\n",
        "plt.show()\n",
        "\n",
        "# Print confusion matrix for reference\n",
        "print(\"Confusion Matrix:\\n\", cm)"
      ],
      "metadata": {
        "colab": {
          "base_uri": "https://localhost:8080/",
          "height": 526
        },
        "id": "nQIiNY8xtOV4",
        "outputId": "2d27201c-a7b2-4e25-c8bc-d94a2f64dc10"
      },
      "execution_count": null,
      "outputs": [
        {
          "output_type": "display_data",
          "data": {
            "text/plain": [
              "<Figure size 640x480 with 2 Axes>"
            ],
            "image/png": "[encoded data removed]"
          },
          "metadata": {}
        },
        {
          "output_type": "stream",
          "name": "stdout",
          "text": [
            "Confusion Matrix:\n",
            " [[303  98]\n",
            " [ 99 300]]\n"
          ]
        }
      ]
    },
    {
      "cell_type": "markdown",
      "source": [
        "#### Matrix Breakdown:\n",
        "- **True Negatives (TN)**: 303\n",
        "  - The model correctly predicted 303 apples as `Bad` quality.\n",
        "- **False Positives (FP)**: 98\n",
        "  - The model incorrectly predicted 98 `Bad` apples as `Good`.\n",
        "- **False Negatives (FN)**: 99\n",
        "  - The model incorrectly predicted 99 `Good` apples as `Bad`.\n",
        "- **True Positives (TP)**: 300\n",
        "  - The model correctly predicted 300 apples as `Good` quality.\n",
        "\n",
        "#### Key Observations:\n",
        "1. **Balanced Correct Predictions**:<br>\n",
        "   The model performs evenly in predicting both `Good` and `Bad` apples, with slightly more true negatives (303) than true positives (300).\n",
        "\n",
        "2. **Misclassification Rates**:\n",
        "   - **False Positive Rate** (FP): 98 where bad apples were classified as `Good`.\n",
        "   - **False Negative Rate** (FN): 99 where good apples were classified as `Bad`."
      ],
      "metadata": {
        "id": "5Aj5r8lNtfLz"
      }
    },
    {
      "cell_type": "markdown",
      "source": [
        "### Interpretation\n",
        "### Findings from Logistic Regression\n",
        "\n",
        "1. **Overall Accuracy:**<br>\n",
        "  The logistic regression model reached an accuracy of 75%, rightfully sorting 603 out of 800 samples. This shows the model works somewhat well at guessing apple quality using the given features.\n",
        "\n",
        "2. **Performance on Each Class꞉**<br>\n",
        "  The model works equally on `Good` and `Bad` apples, with 300 true positives (Good) and 303 true negatives (Bad). But, the model wrongly labeled 99 good apples as bad (false negatives) and 98 bad apples as good (false positives).\n",
        "\n",
        "3. **Balanced Performance꞉**<br>\n",
        "  The nearly equal number of false positives (98) and false negatives (99) points out that the model does not lean towards either class. This reveals a balanced work for a binary classification task.\n",
        "\n",
        "4. **Limitations꞉**<br>\n",
        "  The false negative rate (good apples seen as bad) may cause issues in some areas, like quality control, where not spotting good products might lead to financial losses. In the same way, false positives (bad apples seen as good) could also cause issues."
      ],
      "metadata": {
        "id": "tDwLwoxqtsqX"
      }
    },
    {
      "cell_type": "markdown",
      "source": [
        "## Comparison, Analysis & Conclusions\n",
        "\n",
        "### Linear Regression\n",
        "\n",
        "#### Best Predictor\n",
        "- **Ripeness** emerged as the top predictor of `Quality` with an \\( r \\)-value of **0.258**.  \n",
        "- This weak positive correlation indicates that while `Ripeness` influences `Quality`, it is not a strong standalone predictor.\n",
        "\n",
        "#### Scatter Plot Observations\n",
        "- A **negative slope** was observed in the regression line.  \n",
        "- This suggests an unexpected trend where higher `Ripeness` values might be associated with a lower likelihood of apples being classified as \"Good\" quality.  \n",
        "- Given that `Quality` is a binary variable, linear regression assumptions (e.g., continuous target variable) do not fully apply, limiting its effectiveness.\n",
        "\n",
        "### Logistic Regression\n",
        "\n",
        "#### Accuracy\n",
        "- The logistic regression model achieved an accuracy of **75%**, correctly classifying most apples as \"Good\" or \"Bad.\"\n",
        "\n",
        "#### Confusion Matrix Observations\n",
        "- **True Positives (Good)**: 300 apples correctly classified as \"Good.\"  \n",
        "- **True Negatives (Bad)**: 303 apples correctly classified as \"Bad.\"  \n",
        "- **False Positives**: 98 \"Bad\" apples misclassified as \"Good.\"  \n",
        "- **False Negatives**: 99 \"Good\" apples misclassified as \"Bad.\"  \n",
        "\n",
        "#### Balanced Performance\n",
        "- The logistic regression model demonstrated **balanced performance** across both classes, effectively handling the binary nature of the classification task.  \n",
        "- It outperformed linear regression, as it is better suited for yes-or-no classification problems like predicting `Quality`.\n"
      ],
      "metadata": {
        "id": "-t09KQ7tg2Ew"
      }
    },
    {
      "cell_type": "markdown",
      "source": [
        "Comparison of Linear and Logistic Regression\n",
        "\n",
        "| Aspect            | Linear Regression                             | Logistic Regression                         |\n",
        "|------------------------|--------------------------------------------------|------------------------------------------------|\n",
        "| Purpose           | Predicts a continuous target variable.           | Classifies data into discrete categories.      |\n",
        "| Target Variable   | Uses a continuous target variable.               | Works with binary or multiclass target variables. |\n",
        "| Model Output      | Produces a continuous numerical value (\\( y \\)).  | Gives probabilities (\\( $P(y=1|X)$ \\)).       |\n",
        "| Best Use Case     | Fits well for regression problems like housing prices.       | Suitable for classification problems like spam detection.|\n",
        "| Performance       | Showed poor results for binary classification due to weak connection and wrongness for binary targets. | Reached 75% accuracy with good balance, making it more suitable for this task. |\n",
        "| Interpretability  | Easy to understand with a linear equation.         | Provides probabilities and clear decision points. |\n",
        "| Limitations       | Needs linearity and a continuous target variable; really not suitable for binary data. | Assumes linear connection between factors and log-odds; less effective with non-linear links. |"
      ],
      "metadata": {
        "id": "vaCS7mLcuheM"
      }
    },
    {
      "cell_type": "markdown",
      "source": [
        "### Conclusion\n",
        "\n",
        "#### Comparing the Models:\n",
        "Logistic Regression outperformed Linear Regression for this binary classification task due to its ability to:\n",
        "- Define clear decision boundaries.\n",
        "- Provide probabilistic predictions for classifying apples as \"Good\" or \"Bad.\"\n",
        "\n",
        "While Linear Regression demonstrated strengths, such as identifying `Ripeness` as a key factor, it struggled with the binary nature of the target variable. This made its results more difficult to interpret and less effective for classification.\n",
        "\n",
        "#### The Role of Ripeness:\n",
        "Both models confirmed that `Ripeness` is an important factor influencing apple quality. However, its weak correlation with `Quality` suggests that it is insufficient as a standalone predicting element. Combining `Ripeness` with other features could likely improve the model's predictions.\n",
        "\n",
        "#### Insights:\n",
        "Logistic Regression was the better model for this task because it provided:\n",
        "- Balanced and interpretable results suitable for binary classification.\n",
        "- A confusion matrix that demonstrated its ability to handle both \"Good\" and \"Bad\" classifications effectively, without bias toward either class.\n",
        "\n",
        "#### Summary:\n",
        "Logistic Regression stands out as the most suitable model for this classification problem, given its alignment with the binary nature of the task and its balanced performance. Linear Regression, while insightful for exploring relationships like the importance of `Ripeness`, falls short in providing the level of detail needed for accurate classification.\n",
        "\n",
        "### Recommendations for Future Work:\n",
        "1. **Feature Engineering**:\n",
        "   - Combine or transform existing features (e.g., interaction terms) to capture more complex relationships in the data.\n",
        "2. **Experiment with Advanced Models**:\n",
        "   - Evaluate more sophisticated machine learning algorithms, such as **Random Forests** or **Support Vector Machines**, to improve classification accuracy.\n",
        "3. **Address Class Imbalance**:\n",
        "   - If the dataset is imbalanced (e.g., more \"Good\" apples than \"Bad\"), consider applying data augmentation techniques or re-sampling strategies to balance the classes and reduce misclassification errors.\n",
        "\n",
        "By taking these steps, the model's performance and reliability can be further enhanced for practical applications.\n"
      ],
      "metadata": {
        "id": "PnVrED1TuuIH"
      }
    }
  ]
}